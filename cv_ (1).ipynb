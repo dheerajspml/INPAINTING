{
 "cells": [
  {
   "cell_type": "markdown",
   "metadata": {
    "id": "ah6XysvFjxlp"
   },
   "source": [
    "# **Computer Vision mini project**\n",
    "\n",
    "\n",
    "\n",
    "Name: \n",
    "      \n",
    "\n",
    "*   **Dheeraj Kumar Bharti (Roll no. 204102303)**\n",
    "*   **Ajay Gautam   (Roll no.204102323)**\n",
    "\n"
   ]
  },
  {
   "cell_type": "markdown",
   "metadata": {
    "id": "hE7qibmUh-IP"
   },
   "source": [
    "**Image inpainting**\n",
    "image imapainting is technique that use to reconstruct the original image from distorted image.distortion of image can be line ,can be sketch on image."
   ]
  },
  {
   "cell_type": "markdown",
   "metadata": {
    "id": "x02c2f_XjGI4"
   },
   "source": [
    "in this project we will use open cv library. first we will create distortion to image using mouse then we will try to recover image from distorted image.\n",
    "in this project we r using two algorithm \n",
    "1.fmm algo\n",
    "2.ns algo\n",
    "\n",
    "*    Fast Marching Method\n",
    "* NS method\n",
    "\n"
   ]
  },
  {
   "cell_type": "markdown",
   "metadata": {
    "id": "Ys4RdQVP28zT"
   },
   "source": [
    "importing usable library"
   ]
  },
  {
   "cell_type": "code",
   "execution_count": 3,
   "metadata": {
    "id": "ljZLSrPwjE4R"
   },
   "outputs": [],
   "source": [
    "import numpy as np\n",
    "import cv2 as cv\n",
    "import sys\n",
    "import matplotlib.pyplot as plt\n",
    "from skimage import data\n",
    "from skimage.io import imread\n"
   ]
  },
  {
   "cell_type": "code",
   "execution_count": null,
   "metadata": {
    "colab": {
     "base_uri": "https://localhost:8080/",
     "height": 518
    },
    "id": "sebNdzOuh7J-",
    "outputId": "26fa5c05-8a60-4033-a0ba-741838454a0f",
    "scrolled": true
   },
   "outputs": [
    {
     "name": "stdout",
     "output_type": "stream",
     "text": [
      "Usage: python inpaint <image_path>\n",
      "Keys: \n",
      "press 't' for MFF\n",
      "press 'n' for NS technique\n",
      "press 'r' for reset the inpainting mask\n",
      "press 'ESC' for  - exit\n"
     ]
    }
   ],
   "source": [
    "\"\"\"creating mause handling class which will be using for \n",
    "creating live distortion on image.\n",
    "in this class we will create constructor that will be usefull for\n",
    "showing our image.\n",
    "\"\"\" \n",
    "\n",
    "# OpenCV Utility Class for Mouse Handling\n",
    "class Sketcher:\n",
    "    def __init__(self, wind_name, destorted_set, colors_func):\n",
    "        self.preserved_pt = None\n",
    "        self.wind_name= wind_name\n",
    "        self.destorted_set=destorted_set\n",
    "        self.colors_func= colors_func\n",
    "        self.dirty = False \n",
    "        self.show()\n",
    "        cv.setMouseCallback(self.wind_name, self.mouse_handling)\n",
    "\n",
    "    def show(self):\n",
    "        cv.imshow(self.wind_name, self.destorted_set[0])\n",
    "        cv.imshow(self.wind_name + \": mask\", self.destorted_set[1])\n",
    "\n",
    "    # onMouse function for Mouse Handling\n",
    "    def mouse_handling(self, event, x_cor, y_cor, flags, parameters):\n",
    "        points = (x_cor, y_cor)\n",
    "        if event == cv.EVENT_LBUTTONDOWN:\n",
    "            self.preserved_pt = points\n",
    "        elif event == cv.EVENT_LBUTTONUP:\n",
    "            self.preserved_pt = None\n",
    "\n",
    "        if self.preserved_pt and flags & cv.EVENT_FLAG_LBUTTON:\n",
    "            for dst, color in zip(self.destorted_set, self.colors_func()):\n",
    "                cv.line(dst, self.preserved_pt, points, color, 5)\n",
    "            self.dirty = True\n",
    "            self.preserved_pt = points\n",
    "            self.show()\n",
    "\"\"\"\n",
    "now we will creat main function\n",
    "key: we have two algorithm  \n",
    "1.NS algorithm\n",
    "1. FMM algorithm(fast marching method)\n",
    " if we press key \"t\" then NS algorith will run\n",
    " and if we press key \"N\" then FMM algorithm will run.\n",
    " if we press key \"r\" then impaint mask will reset.\n",
    " if we press key \"ESC\" then our program will be reset\n",
    "\"\"\"\n",
    "\n",
    "def main():\n",
    "\n",
    "    print(\"Usage: python inpaint <image_path>\")\n",
    "    print(\"Keys: \")\n",
    "    print(\"press 't' for MFF\")\n",
    "    print(\"press 'n' for NS technique\")\n",
    "    print(\"press 'r' for reset the inpainting mask\")\n",
    "    print(\"press 'ESC' for  - exit\")\n",
    "\n",
    "    # Read image in color mode\n",
    " \n",
    "    #in_img = cv.imread('/content/ground_truith.jpg', cv.IMREAD_COLOR)# IMREAD_COLOR is flag value that use for in which mode u want to read image\n",
    "    in_img= data.camera() \n",
    "    \"\"\" sometime our system does not read image \"\"\"\n",
    "    # If image is not read properly, return error\n",
    "    if in_img is None:\n",
    "        print('Failed to load image file: {}'.format(in_img))\n",
    "        return\n",
    "    \"\"\"now wew will creat mask on our original image. we will use copy function that\n",
    "     is able to make the copy of image.\n",
    "    \"\"\"\n",
    "    # Create a copy of original image\n",
    "    masked_im = in_img.copy()\n",
    "    # Create a black copy of original image\n",
    "    # Acts as a mask\n",
    "    inpainted_Mask = np.zeros(in_img.shape[:2], np.uint8)# it will create black image of original image size\n",
    "    # Create sketch using OpenCV Utility Class: Sketcher\n",
    "    sketch = Sketcher('image', [masked_im, inpainted_Mask], lambda : ((255, 255, 255), 255))\n",
    "    \"\"\" now we will use key under infinite loop, that will\n",
    "    use key for image impainting algorithm\n",
    "    \"\"\"\n",
    "    while True:\n",
    "        ch = cv.waitKey()\n",
    "        if ch == 27: # 27 is ascii code for \"ESC\" key\n",
    "            break\n",
    "        if ch == ord('t'):\n",
    "            # Use Algorithm proposed by Alexendra Telea: Fast Marching Method \n",
    "            res = cv.inpaint(src=masked_im, inpaintMask=inpainted_Mask, inpaintRadius=3, flags=cv.INPAINT_TELEA)#INPAINT_TELEA is name of fast marching method\n",
    "            cv.imshow('Inpaint Output using FMM', res)\n",
    "        if ch == ord('n'):\n",
    "            # Use Algorithm proposed by Bertalmio, Marcelo, Andrea L. Bertozzi, and Guillermo Sapiro: Navier-Stokes, Fluid Dynamics, and Image and Video Inpainting (2001)\n",
    "            res = cv.inpaint(src=masked_im, inpaintMask=inpainted_Mask, inpaintRadius=3, flags=cv.INPAINT_NS)\n",
    "            cv.imshow('Inpaint Output using NS Technique', res)\n",
    "        if ch == ord('r'):\n",
    "            masked_im[:] = in_img\n",
    "            inpainted_Mask[:] = 0\n",
    "            sketch.show()\n",
    "\n",
    "    print('Completed')\n",
    "\n",
    "\n",
    "if __name__ == '__main__':\n",
    "    main()\n",
    "    cv.destroyAllWindows()"
   ]
  },
  {
   "cell_type": "code",
   "execution_count": null,
   "metadata": {},
   "outputs": [],
   "source": []
  },
  {
   "cell_type": "code",
   "execution_count": null,
   "metadata": {},
   "outputs": [],
   "source": []
  }
 ],
 "metadata": {
  "colab": {
   "name": "cv_.ipynb",
   "provenance": []
  },
  "kernelspec": {
   "display_name": "Python 3",
   "language": "python",
   "name": "python3"
  },
  "language_info": {
   "codemirror_mode": {
    "name": "ipython",
    "version": 3
   },
   "file_extension": ".py",
   "mimetype": "text/x-python",
   "name": "python",
   "nbconvert_exporter": "python",
   "pygments_lexer": "ipython3",
   "version": "3.8.3"
  }
 },
 "nbformat": 4,
 "nbformat_minor": 1
}
